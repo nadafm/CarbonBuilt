{
 "cells": [
  {
   "cell_type": "code",
   "execution_count": 1,
   "id": "0589c283",
   "metadata": {},
   "outputs": [],
   "source": [
    "import mysql.connector"
   ]
  },
  {
   "cell_type": "raw",
   "id": "a8dffbba",
   "metadata": {},
   "source": [
    "def connect_to_db_aws():\n",
    "    conn = mysql.connector.connect(host='devcarbonbuiltdb.cpg000so6063.us-east-1.rds.amazonaws.com',\n",
    "                user='DevCarBonBuilt',\n",
    "                password='zJ0ty4W7QyFFes9f6yR2',\n",
    "                db='DevCarbonBuiltDB',\n",
    "                port=3306)\n",
    "    return conn"
   ]
  },
  {
   "cell_type": "code",
   "execution_count": 2,
   "id": "ff66f920",
   "metadata": {},
   "outputs": [],
   "source": [
    "def connect_to_db_aws():\n",
    "    conn = mysql.connector.connect(host='devcarbonbuilt.cre24agw00md.us-east-2.rds.amazonaws.com',\n",
    "                user='DevCarbonBuiltDB',\n",
    "                password='W9PkFnY8SUmOtIqTX40C',\n",
    "                db='DevCarbonBuiltDB',\n",
    "                port=3306)\n",
    "    return conn"
   ]
  },
  {
   "cell_type": "raw",
   "id": "26efb258",
   "metadata": {},
   "source": [
    "CREATE DATABASE DevCarbonBuiltDB\n",
    "USE DevCarbonBuiltDB\n",
    "drop table BlockPlant;\n",
    "ALTER TABLE RawMaterial DROP COLUMN PSDTableandGraph;\n",
    "execute through SQL My bench\n"
   ]
  },
  {
   "cell_type": "code",
   "execution_count": 3,
   "id": "8ad11f06",
   "metadata": {},
   "outputs": [],
   "source": [
    "conn = connect_to_db_aws()"
   ]
  },
  {
   "cell_type": "code",
   "execution_count": 4,
   "id": "34b284ea",
   "metadata": {},
   "outputs": [],
   "source": [
    "cur  = conn.cursor()"
   ]
  },
  {
   "cell_type": "code",
   "execution_count": 5,
   "id": "63667cd6",
   "metadata": {},
   "outputs": [],
   "source": [
    "def create_table_BlockProducer(tbl_name, cursor, db_connection):\n",
    "    create_table_query = f\"CREATE TABLE `{tbl_name}` (\\\n",
    "        `bProducerID` INT(11) NOT NULL AUTO_INCREMENT,\\\n",
    "        `bProducerName`VARCHAR(50) NULL DEFAULT NULL COLLATE 'utf8mb4_unicode_ci',\\\n",
    "        `NumberofBlockPlants` INT(11) NULL DEFAULT NULL,\\\n",
    "        `Notes` VARCHAR(50) NULL DEFAULT NULL COLLATE 'utf8mb4_unicode_ci',\\\n",
    "         PRIMARY KEY (`bProducerID`) USING BTREE\\\n",
    "        )\\\n",
    "        COLLATE='utf8mb4_unicode_ci'\\\n",
    "        ENGINE=InnoDB\\\n",
    "        ;\"\n",
    "    cursor.execute(create_table_query)\n",
    "    db_connection.commit()"
   ]
  },
  {
   "cell_type": "code",
   "execution_count": 6,
   "id": "a6cd7b9f",
   "metadata": {},
   "outputs": [],
   "source": [
    "create_table_BlockProducer('BlockProducer', cur, conn);"
   ]
  },
  {
   "cell_type": "code",
   "execution_count": 7,
   "id": "ba8fe14b",
   "metadata": {},
   "outputs": [],
   "source": [
    "def create_table_BlockPlant(tbl_name, cursor, db_connection):\n",
    "    create_table_query = f\"CREATE TABLE `{tbl_name}` (\\\n",
    "        `bPlantID` INT(11) NOT NULL AUTO_INCREMENT,\\\n",
    "        `bProducerID` INT(11) NULL DEFAULT NULL,\\\n",
    "        `bRegion` VARCHAR(50) NULL DEFAULT NULL COLLATE 'utf8mb4_unicode_ci',\\\n",
    "        `bAddress` VARCHAR(50) NULL DEFAULT NULL COLLATE 'utf8mb4_unicode_ci',\\\n",
    "        `CanUseRailroad` VARCHAR(50) NULL DEFAULT NULL COLLATE 'utf8mb4_unicode_ci',\\\n",
    "        `ProductOffer_ProductionVolume` VARCHAR(50) NULL DEFAULT NULL COLLATE 'utf8mb4_unicode_ci',\\\n",
    "        `Power_CO2_source` VARCHAR(50) NULL DEFAULT NULL COLLATE 'utf8mb4_unicode_ci',\\\n",
    "        `Jan_Month_Avg_Temp` FLOAT NULL DEFAULT NULL,\\\n",
    "        `Feb_Month_Avg_Temp` FLOAT NULL DEFAULT NULL,\\\n",
    "        `Mar_Month_Avg_Temp` FLOAT NULL DEFAULT NULL,\\\n",
    "        `April_Month_Avg_Temp` FLOAT NULL DEFAULT NULL,\\\n",
    "        `May_Month__Avg_Temp` FLOAT NULL DEFAULT NULL,\\\n",
    "        `June_Month_Avg_Temp` FLOAT NULL DEFAULT NULL,\\\n",
    "        `July_Month_Avg_Temp` FLOAT NULL DEFAULT NULL,\\\n",
    "        `August_Month_Avg_Temp` FLOAT NULL DEFAULT NULL,\\\n",
    "        `Sep_Month_Avg_Temp` FLOAT NULL DEFAULT NULL,\\\n",
    "        `Oct_Month_Avg_Temp` FLOAT NULL DEFAULT NULL,\\\n",
    "        `Nov_Month_Avg_Temp` FLOAT NULL DEFAULT NULL,\\\n",
    "        `Dec_Month_Avg_Temp` FLOAT NULL DEFAULT NULL,\\\n",
    "         FOREIGN KEY (`bProducerID`) REFERENCES `BlockProducer` (`bProducerID`) ON DELETE CASCADE, \\\n",
    "         PRIMARY KEY (`bPlantID`) USING BTREE\\\n",
    "        )\\\n",
    "        COLLATE='utf8mb4_unicode_ci'\\\n",
    "        ENGINE=InnoDB\\\n",
    "        ;\"\n",
    "    cursor.execute(create_table_query)\n",
    "    db_connection.commit()"
   ]
  },
  {
   "cell_type": "code",
   "execution_count": 8,
   "id": "29042fce",
   "metadata": {},
   "outputs": [],
   "source": [
    "create_table_BlockPlant('BlockPlant', cur, conn);"
   ]
  },
  {
   "cell_type": "code",
   "execution_count": 9,
   "id": "e9ca0f7b",
   "metadata": {},
   "outputs": [],
   "source": [
    "def create_table_MaterialSupplier(tbl_name, cursor, db_connection):\n",
    "    create_table_query = f\"CREATE TABLE `{tbl_name}` (\\\n",
    "        `mattSupplierID` INT(11) NOT NULL AUTO_INCREMENT,\\\n",
    "        `MaterialSupplierName` VARCHAR(50) NULL DEFAULT NULL COLLATE 'utf8mb4_unicode_ci',\\\n",
    "         PRIMARY KEY (`mattSupplierID`) USING BTREE\\\n",
    "        )\\\n",
    "        COLLATE='utf8mb4_unicode_ci'\\\n",
    "        ENGINE=InnoDB\\\n",
    "        ;\"\n",
    "    cursor.execute(create_table_query)\n",
    "    db_connection.commit()"
   ]
  },
  {
   "cell_type": "code",
   "execution_count": 10,
   "id": "aa2fa85b",
   "metadata": {},
   "outputs": [],
   "source": [
    "create_table_MaterialSupplier('MaterialSupplier', cur, conn); "
   ]
  },
  {
   "cell_type": "code",
   "execution_count": 11,
   "id": "b403764f",
   "metadata": {},
   "outputs": [],
   "source": [
    "def create_table_RawMaterial(tbl_name, cursor, db_connection):\n",
    "    create_table_query = f\"CREATE TABLE `{tbl_name}` (\\\n",
    "        `rawMatID` INT(11) NOT NULL AUTO_INCREMENT,\\\n",
    "        `mattSupplierID` INT(11) NULL DEFAULT NULL,\\\n",
    "        `MaterialType` VARCHAR(50) NULL DEFAULT NULL COLLATE 'utf8mb4_unicode_ci',\\\n",
    "        `Address(Source)` VARCHAR(50) NULL DEFAULT NULL COLLATE 'utf8mb4_unicode_ci',\\\n",
    "        `Density` FLOAT NULL DEFAULT NULL,\\\n",
    "        `Sieve4` FLOAT NULL DEFAULT NULL,\\\n",
    "        `Sieve30` FLOAT NULL DEFAULT NULL,\\\n",
    "        `Sieve100` FLOAT NULL DEFAULT NULL,\\\n",
    "        `Sieve325` FLOAT NULL DEFAULT NULL,\\\n",
    "        `WaterAbsorption` FLOAT NULL DEFAULT NULL,\\\n",
    "        `Finenessmodulus` FLOAT NULL DEFAULT NULL,\\\n",
    "        `SiO2` FLOAT NULL DEFAULT NULL,\\\n",
    "        `Al2O3` FLOAT NULL DEFAULT NULL,\\\n",
    "        `Fe2O3` FLOAT NULL DEFAULT NULL,\\\n",
    "        `CaO` FLOAT NULL DEFAULT NULL,\\\n",
    "        `FreeLime` FLOAT NULL DEFAULT NULL,\\\n",
    "        `MgO` FLOAT NULL DEFAULT NULL,\\\n",
    "        `SO3` FLOAT NULL DEFAULT NULL,\\\n",
    "        `Na2O` FLOAT NULL DEFAULT NULL,\\\n",
    "        `K2O` FLOAT NULL DEFAULT NULL,\\\n",
    "        `CaCO3` FLOAT NULL DEFAULT NULL,\\\n",
    "        `Fluorine` FLOAT NULL DEFAULT NULL,\\\n",
    "        `Chloride` FLOAT NULL DEFAULT NULL,\\\n",
    "        `TotalAlkalis` FLOAT NULL DEFAULT NULL,\\\n",
    "        `AvailableAlkalis` FLOAT NULL DEFAULT NULL,\\\n",
    "        `LossonIgnition` FLOAT NULL DEFAULT NULL,\\\n",
    "        `Moisturecontent` FLOAT NULL DEFAULT NULL,\\\n",
    "        `Insolubleresidue` FLOAT NULL DEFAULT NULL,\\\n",
    "        `Freewater` FLOAT NULL DEFAULT NULL,\\\n",
    "        `ChemicalPlaceholder1` FLOAT NULL DEFAULT NULL,\\\n",
    "        `ChemicalPlaceholder2` FLOAT NULL DEFAULT NULL,\\\n",
    "        `ChemicalPlaceholder3` FLOAT NULL DEFAULT NULL,\\\n",
    "        `ChemicalPlaceholder4` FLOAT NULL DEFAULT NULL,\\\n",
    "        `Blainefineness` FLOAT NULL DEFAULT NULL,\\\n",
    "        `SAIat7` FLOAT NULL DEFAULT NULL,\\\n",
    "        `SAIat28` FLOAT NULL DEFAULT NULL,\\\n",
    "        `Limereactivity` FLOAT NULL DEFAULT NULL,\\\n",
    "        `Waterrequirement` FLOAT NULL DEFAULT NULL,\\\n",
    "        `Autoclaveexpansion` FLOAT NULL DEFAULT NULL,\\\n",
    "        `Aircontent` FLOAT NULL DEFAULT NULL,\\\n",
    "        `color` VARCHAR(50) NULL DEFAULT NULL COLLATE 'utf8mb4_unicode_ci',\\\n",
    "        `PhysicalPlaceholder1` FLOAT NULL DEFAULT NULL,\\\n",
    "        `PhysicalPlaceholder2` FLOAT NULL DEFAULT NULL,\\\n",
    "        `PhysicalPlaceholder3` FLOAT NULL DEFAULT NULL,\\\n",
    "        `PhysicalPlaceholder4` FLOAT NULL DEFAULT NULL,\\\n",
    "        `PSDTableandGraph` LONGBLOB NOT NULL,\\\n",
    "         FOREIGN KEY (`mattSupplierID`) REFERENCES `MaterialSupplier` (`mattSupplierID`) ON DELETE CASCADE, \\\n",
    "         PRIMARY KEY (`rawMatID`) USING BTREE\\\n",
    "        )\\\n",
    "        COLLATE='utf8mb4_unicode_ci'\\\n",
    "        ENGINE=InnoDB\\\n",
    "        ;\"\n",
    "    cursor.execute(create_table_query)\n",
    "    db_connection.commit()"
   ]
  },
  {
   "cell_type": "code",
   "execution_count": 12,
   "id": "92fb83ac",
   "metadata": {},
   "outputs": [],
   "source": [
    "create_table_RawMaterial('RawMaterial', cur, conn);"
   ]
  },
  {
   "cell_type": "code",
   "execution_count": 13,
   "id": "0d1bdb0b",
   "metadata": {},
   "outputs": [],
   "source": [
    "def create_table_MaterailSample(tbl_name, cursor, db_connection):\n",
    "    create_table_query = f\"CREATE TABLE `{tbl_name}` (\\\n",
    "        `MatSampleID` INT(11) NOT NULL AUTO_INCREMENT,\\\n",
    "        `rawMatID` INT(11) NULL DEFAULT NULL,\\\n",
    "        `DeliveryDate` DATE ,\\\n",
    "        `AvailableCH` FLOAT NULL DEFAULT NULL,\\\n",
    "        `AvailableCaO` FLOAT NULL DEFAULT NULL,\\\n",
    "        `CO2uptake` FLOAT NULL DEFAULT NULL,\\\n",
    "        `Maximumtemperature` FLOAT NULL DEFAULT NULL,\\\n",
    "        `Areaunderthecurve` FLOAT NULL DEFAULT NULL,\\\n",
    "        `FTIRGraph` LONGBLOB NOT NULL,\\\n",
    "        `XRDGraph` LONGBLOB NOT NULL,\\\n",
    "        `XRFGraph` LONGBLOB NOT NULL,\\\n",
    "        `DataSheet` LONGBLOB NOT NULL,\\\n",
    "         FOREIGN KEY (`rawMatID`) REFERENCES `RawMaterial` (`rawMatID`) ON DELETE CASCADE, \\\n",
    "         PRIMARY KEY (`MatSampleID`) USING BTREE\\\n",
    "        )\\\n",
    "        COLLATE='utf8mb4_unicode_ci'\\\n",
    "        ENGINE=InnoDB\\\n",
    "        ;\"\n",
    "    cursor.execute(create_table_query)\n",
    "    db_connection.commit()"
   ]
  },
  {
   "cell_type": "code",
   "execution_count": 14,
   "id": "94b61bbd",
   "metadata": {},
   "outputs": [],
   "source": [
    "create_table_MaterailSample('MaterialSample', cur, conn);"
   ]
  },
  {
   "cell_type": "code",
   "execution_count": 15,
   "id": "7d59c5de",
   "metadata": {},
   "outputs": [],
   "source": [
    "def create_table_ProcessingCondition(tbl_name, cursor, db_connection):\n",
    "    create_table_query = f\"CREATE TABLE `{tbl_name}` (\\\n",
    "        `PCID` INT(11) NOT NULL AUTO_INCREMENT,\\\n",
    "        `ProcessID` INT(11) NOT NULL,\\\n",
    "        `PreSettingDuration` FLOAT NULL DEFAULT NULL,\\\n",
    "        `RestDuration` FLOAT NULL DEFAULT NULL,\\\n",
    "        `StepType` VARCHAR(50) NULL DEFAULT NULL COLLATE 'utf8mb4_unicode_ci',\\\n",
    "        `FlowRate` FLOAT NULL DEFAULT NULL,\\\n",
    "        `CO2Concentration` FLOAT NULL DEFAULT NULL,\\\n",
    "        `Temperature` FLOAT NULL DEFAULT NULL,\\\n",
    "        `RelativeHumidity` FLOAT NULL DEFAULT NULL,\\\n",
    "        `StepDuration` FLOAT NULL DEFAULT NULL,\\\n",
    "         PRIMARY KEY (`PCID`,`ProcessID`) USING BTREE\\\n",
    "        )\\\n",
    "        COLLATE='utf8mb4_unicode_ci'\\\n",
    "        ENGINE=InnoDB\\\n",
    "        ;\"\n",
    "    cursor.execute(create_table_query)\n",
    "    db_connection.commit()"
   ]
  },
  {
   "cell_type": "code",
   "execution_count": 16,
   "id": "92c9b417",
   "metadata": {},
   "outputs": [],
   "source": [
    "create_table_ProcessingCondition('ProcessingConditions', cur, conn);"
   ]
  },
  {
   "cell_type": "code",
   "execution_count": 17,
   "id": "a90177d7",
   "metadata": {},
   "outputs": [],
   "source": [
    "def create_table_MixDesign(tbl_name, cursor, db_connection):\n",
    "    create_table_query = f\"CREATE TABLE `{tbl_name}` (\\\n",
    "        `MDID` INT(11) NOT NULL AUTO_INCREMENT,\\\n",
    "        `MixDesignName` VARCHAR(50) NOT NULL COLLATE 'utf8mb4_unicode_ci',\\\n",
    "        `rawMatID` INT(11) NOT NULL ,\\\n",
    "        `PCID` INT(11) NOT NULL ,\\\n",
    "        `ProcessID` INT(11) NOT NULL ,\\\n",
    "        `Percentage` FLOAT NULL DEFAULT NULL,\\\n",
    "        `MDNotes` VARCHAR(50) NOT NULL COLLATE 'utf8mb4_unicode_ci',\\\n",
    "         FOREIGN KEY (`rawMatID`) REFERENCES `RawMaterial` (`rawMatID`) ON DELETE CASCADE, \\\n",
    "         FOREIGN KEY (`PCID`,`ProcessID`) REFERENCES `ProcessingConditions` (`PCID`,`ProcessID`) ON DELETE CASCADE, \\\n",
    "         PRIMARY KEY (`MDID`,`MixDesignName`) USING BTREE\\\n",
    "        )\\\n",
    "        COLLATE='utf8mb4_unicode_ci'\\\n",
    "        ENGINE=InnoDB\\\n",
    "        ;\"\n",
    "    cursor.execute(create_table_query)\n",
    "    db_connection.commit()"
   ]
  },
  {
   "cell_type": "code",
   "execution_count": 18,
   "id": "fcd94b51",
   "metadata": {},
   "outputs": [],
   "source": [
    "create_table_MixDesign('MixDesign', cur, conn);"
   ]
  },
  {
   "cell_type": "code",
   "execution_count": 19,
   "id": "a76ce4b5",
   "metadata": {},
   "outputs": [],
   "source": [
    "def create_table_ConcreteProduct(tbl_name, cursor, db_connection):\n",
    "    create_table_query = f\"CREATE TABLE `{tbl_name}` (\\\n",
    "        `CPID` INT(11) NOT NULL AUTO_INCREMENT,\\\n",
    "        `bPlantID` INT(11) NOT NULL,\\\n",
    "        `MDID` INT(11) NOT NULL,\\\n",
    "        `MixDesignName` VARCHAR(50) NOT NULL COLLATE 'utf8mb4_unicode_ci',\\\n",
    "        `ProductType` VARCHAR(50) NOT NULL COLLATE 'utf8mb4_unicode_ci',\\\n",
    "        `ProductDescription` VARCHAR(50) NOT NULL COLLATE 'utf8mb4_unicode_ci' ,\\\n",
    "         FOREIGN KEY (`bPlantID`) REFERENCES `BlockPlant` (`bPlantID`) ON DELETE CASCADE, \\\n",
    "         FOREIGN KEY (`MDID`,`MixDesignName`) REFERENCES `MixDesign` (`MDID`,`MixDesignName`) ON DELETE CASCADE, \\\n",
    "         PRIMARY KEY (`CPID`) USING BTREE\\\n",
    "        )\\\n",
    "        COLLATE='utf8mb4_unicode_ci'\\\n",
    "        ENGINE=InnoDB\\\n",
    "        ;\"\n",
    "    cursor.execute(create_table_query)\n",
    "    db_connection.commit()"
   ]
  },
  {
   "cell_type": "code",
   "execution_count": 20,
   "id": "32bb635a",
   "metadata": {},
   "outputs": [],
   "source": [
    "create_table_ConcreteProduct('ConcreteProduct', cur, conn);"
   ]
  },
  {
   "cell_type": "code",
   "execution_count": 21,
   "id": "2bbc3200",
   "metadata": {},
   "outputs": [],
   "source": [
    "def create_table_Trail(tbl_name, cursor, db_connection):\n",
    "    create_table_query = f\"CREATE TABLE `{tbl_name}` (\\\n",
    "        `TrialID` INT(11) NOT NULL AUTO_INCREMENT,\\\n",
    "        `CPID` INT(11) NOT NULL,\\\n",
    "        \\\n",
    "        `MDID` INT(11) NOT NULL,\\\n",
    "        `MixDesignName` VARCHAR(50) NOT NULL COLLATE 'utf8mb4_unicode_ci',\\\n",
    "        \\\n",
    "        `PCID` INT(11) NOT NULL ,\\\n",
    "        `ProcessID` INT(11) NOT NULL,\\\n",
    "        \\\n",
    "        `bPlantID` INT(11) NOT NULL,\\\n",
    "        `MatSampleID` INT(11) NOT NULL,\\\n",
    "        `TrialNotes` VARCHAR(50) NOT NULL COLLATE 'utf8mb4_unicode_ci',\\\n",
    "        `TrialType` VARCHAR(50) NOT NULL COLLATE 'utf8mb4_unicode_ci' ,\\\n",
    "        `TrailDate` DATE ,\\\n",
    "        `Abrasion` FLOAT NULL DEFAULT NULL,\\\n",
    "        `FireRating` FLOAT NULL DEFAULT NULL,\\\n",
    "        `Elasticity` FLOAT NULL DEFAULT NULL,\\\n",
    "        `WaterAbsorption` FLOAT NULL DEFAULT NULL,\\\n",
    "         FOREIGN KEY (`CPID`) REFERENCES `ConcreteProduct` (`CPID`) ON DELETE CASCADE, \\\n",
    "         FOREIGN KEY (`MDID`,`MixDesignName`) REFERENCES `MixDesign` (`MDID`,`MixDesignName`) ON DELETE CASCADE, \\\n",
    "         FOREIGN KEY (`PCID`,`ProcessID`) REFERENCES `ProcessingConditions` (`PCID`,`ProcessID`) ON DELETE CASCADE, \\\n",
    "         FOREIGN KEY (`bPlantID`) REFERENCES `BlockPlant` (`bPlantID`) ON DELETE CASCADE, \\\n",
    "         FOREIGN KEY (`MatSampleID`) REFERENCES `MaterialSample` (`MatSampleID`) ON DELETE CASCADE, \\\n",
    "         PRIMARY KEY (`TrialID`) USING BTREE\\\n",
    "        )\\\n",
    "        COLLATE='utf8mb4_unicode_ci'\\\n",
    "        ENGINE=InnoDB\\\n",
    "        ;\"\n",
    "    cursor.execute(create_table_query)\n",
    "    db_connection.commit()"
   ]
  },
  {
   "cell_type": "code",
   "execution_count": 22,
   "id": "ec07dfab",
   "metadata": {},
   "outputs": [],
   "source": [
    "create_table_Trail('Trail', cur, conn);"
   ]
  },
  {
   "cell_type": "code",
   "execution_count": 23,
   "id": "6f3b0037",
   "metadata": {},
   "outputs": [],
   "source": [
    "def create_table_StrengthTestLab(tbl_name, cursor, db_connection):\n",
    "    create_table_query = f\"CREATE TABLE `{tbl_name}` (\\\n",
    "        `strengthTestLabID` INT(11) NOT NULL AUTO_INCREMENT,\\\n",
    "        `StrengthGroupID` INT(11) NOT NULL,\\\n",
    "        `TrialID` INT(11) NOT NULL,\\\n",
    "        `NotesQualitativeResults` VARCHAR(50) NOT NULL COLLATE 'utf8mb4_unicode_ci',\\\n",
    "        `Strength(Average)PSI` FLOAT NULL DEFAULT NULL,\\\n",
    "        `Age(days)` FLOAT NULL DEFAULT NULL,\\\n",
    "        `StdDeviation` FLOAT NULL DEFAULT NULL,\\\n",
    "        `SampleType` VARCHAR(50) NOT NULL COLLATE 'utf8mb4_unicode_ci',\\\n",
    "        `LOCforStrengthTest` VARCHAR(50) NOT NULL COLLATE 'utf8mb4_unicode_ci',\\\n",
    "         FOREIGN KEY (`TrialID`) REFERENCES `Trail` (`TrialID`) ON DELETE CASCADE, \\\n",
    "         PRIMARY KEY (`strengthTestLabID`,`StrengthGroupID`) USING BTREE\\\n",
    "        )\\\n",
    "        COLLATE='utf8mb4_unicode_ci'\\\n",
    "        ENGINE=InnoDB\\\n",
    "        ;\"\n",
    "    cursor.execute(create_table_query)\n",
    "    db_connection.commit()"
   ]
  },
  {
   "cell_type": "code",
   "execution_count": 24,
   "id": "f85d3606",
   "metadata": {},
   "outputs": [],
   "source": [
    "create_table_StrengthTestLab('StrengthTestLab', cur, conn);"
   ]
  },
  {
   "cell_type": "code",
   "execution_count": 25,
   "id": "73259d3b",
   "metadata": {},
   "outputs": [],
   "source": [
    "def create_table_TGA(tbl_name, cursor, db_connection):\n",
    "    create_table_query = f\"CREATE TABLE `{tbl_name}` (\\\n",
    "        `TGAID` INT(11) NOT NULL AUTO_INCREMENT,\\\n",
    "        `TrialID` INT(11) NOT NULL,\\\n",
    "        `strengthTestLabID` INT(11) NOT NULL,\\\n",
    "        `StrengthGroupID` INT(11) NOT NULL,\\\n",
    "        `CO2Uptake` FLOAT NULL DEFAULT NULL,\\\n",
    "        `Wn` FLOAT NULL DEFAULT NULL,\\\n",
    "        `CH` FLOAT NULL DEFAULT NULL,\\\n",
    "        `Ettrigite` FLOAT NULL DEFAULT NULL,\\\n",
    "         FOREIGN KEY (`TrialID`) REFERENCES `Trail` (`TrialID`) ON DELETE CASCADE, \\\n",
    "         FOREIGN KEY (`strengthTestLabID`,`StrengthGroupID`) REFERENCES `StrengthTestLab` (`strengthTestLabID`,`StrengthGroupID`) ON DELETE CASCADE, \\\n",
    "         PRIMARY KEY (`TGAID`) USING BTREE\\\n",
    "        )\\\n",
    "        COLLATE='utf8mb4_unicode_ci'\\\n",
    "        ENGINE=InnoDB\\\n",
    "        ;\"\n",
    "    cursor.execute(create_table_query)\n",
    "    db_connection.commit()"
   ]
  },
  {
   "cell_type": "code",
   "execution_count": 26,
   "id": "2efc8934",
   "metadata": {},
   "outputs": [],
   "source": [
    "create_table_TGA('TGA', cur, conn);"
   ]
  },
  {
   "cell_type": "code",
   "execution_count": 27,
   "id": "75ed12e0",
   "metadata": {},
   "outputs": [],
   "source": [
    "def create_table_freez_Thaw(tbl_name, cursor, db_connection):\n",
    "    create_table_query = f\"CREATE TABLE `{tbl_name}` (\\\n",
    "        `freezeThawID` INT(11) NOT NULL AUTO_INCREMENT,\\\n",
    "        `TrialID` INT(11) NOT NULL,\\\n",
    "        `freezeThawTimestamp` TIMESTAMP NOT NULL DEFAULT CURRENT_TIMESTAMP,\\\n",
    "        `DegredationPerecetage` FLOAT NULL DEFAULT NULL,\\\n",
    "        `Failure` FLOAT NULL DEFAULT NULL,\\\n",
    "         FOREIGN KEY (`TrialID`) REFERENCES `Trail` (`TrialID`) ON DELETE CASCADE, \\\n",
    "         PRIMARY KEY (`freezeThawID`) USING BTREE\\\n",
    "        )\\\n",
    "        COLLATE='utf8mb4_unicode_ci'\\\n",
    "        ENGINE=InnoDB\\\n",
    "        ;\"\n",
    "    cursor.execute(create_table_query)\n",
    "    db_connection.commit()"
   ]
  },
  {
   "cell_type": "code",
   "execution_count": 28,
   "id": "06e74d97",
   "metadata": {},
   "outputs": [],
   "source": [
    "create_table_freez_Thaw('freez_Thaw', cur, conn);"
   ]
  },
  {
   "cell_type": "code",
   "execution_count": 29,
   "id": "f38e93f4",
   "metadata": {},
   "outputs": [],
   "source": [
    "def create_table_Shrinkage(tbl_name, cursor, db_connection):\n",
    "    create_table_query = f\"CREATE TABLE `{tbl_name}` (\\\n",
    "        `ShrinkageID` INT(11) NOT NULL AUTO_INCREMENT,\\\n",
    "        `TrialID` INT(11) NOT NULL,\\\n",
    "        `ShrinkageTimestamp` TIMESTAMP NOT NULL DEFAULT CURRENT_TIMESTAMP,\\\n",
    "        `shrinkagePerecetage` FLOAT NULL DEFAULT NULL,\\\n",
    "         FOREIGN KEY (`TrialID`) REFERENCES `Trail` (`TrialID`) ON DELETE CASCADE, \\\n",
    "         PRIMARY KEY (`ShrinkageID`) USING BTREE\\\n",
    "        )\\\n",
    "        COLLATE='utf8mb4_unicode_ci'\\\n",
    "        ENGINE=InnoDB\\\n",
    "        ;\"\n",
    "    cursor.execute(create_table_query)\n",
    "    db_connection.commit()"
   ]
  },
  {
   "cell_type": "code",
   "execution_count": 30,
   "id": "668cd12a",
   "metadata": {},
   "outputs": [],
   "source": [
    "create_table_Shrinkage('Shrinkage', cur, conn);"
   ]
  },
  {
   "cell_type": "code",
   "execution_count": 31,
   "id": "e117eb7c",
   "metadata": {},
   "outputs": [],
   "source": [
    "def create_table_ChamberData(tbl_name, cursor, db_connection):\n",
    "    create_table_query = f\"CREATE TABLE `{tbl_name}` (\\\n",
    "        `ChamberDataID` INT(11) NOT NULL AUTO_INCREMENT,\\\n",
    "        `TagID` INT(11) NOT NULL,\\\n",
    "        `TrialID` INT(11) NOT NULL,\\\n",
    "        `TagValue` FLOAT NULL DEFAULT NULL,\\\n",
    "        `ChamberDataTimestamp` TIMESTAMP NOT NULL DEFAULT CURRENT_TIMESTAMP,\\\n",
    "         FOREIGN KEY (`TrialID`) REFERENCES `Trail` (`TrialID`) ON DELETE CASCADE, \\\n",
    "         PRIMARY KEY (`ChamberDataID`,`TagID`) USING BTREE\\\n",
    "        )\\\n",
    "        COLLATE='utf8mb4_unicode_ci'\\\n",
    "        ENGINE=InnoDB\\\n",
    "        ;\"\n",
    "    cursor.execute(create_table_query)\n",
    "    db_connection.commit()"
   ]
  },
  {
   "cell_type": "code",
   "execution_count": 32,
   "id": "a2ad25ab",
   "metadata": {},
   "outputs": [],
   "source": [
    "create_table_ChamberData('ChamberData', cur, conn)"
   ]
  },
  {
   "cell_type": "code",
   "execution_count": 33,
   "id": "7156c7bc",
   "metadata": {},
   "outputs": [],
   "source": [
    "def create_table_GPSData(tbl_name, cursor, db_connection):\n",
    "    create_table_query = f\"CREATE TABLE `{tbl_name}` (\\\n",
    "        `GPSID` INT(11) NOT NULL AUTO_INCREMENT,\\\n",
    "        `TagID` INT(11) NOT NULL,\\\n",
    "        `TrialID` INT(11) NOT NULL,\\\n",
    "        `TagValue` FLOAT NULL DEFAULT NULL,\\\n",
    "        `GPSDataTimestamp` TIMESTAMP NOT NULL DEFAULT CURRENT_TIMESTAMP,\\\n",
    "         FOREIGN KEY (`TrialID`) REFERENCES `Trail` (`TrialID`) ON DELETE CASCADE, \\\n",
    "         PRIMARY KEY (`GPSID`,`TagID`) USING BTREE\\\n",
    "        )\\\n",
    "        COLLATE='utf8mb4_unicode_ci'\\\n",
    "        ENGINE=InnoDB\\\n",
    "        ;\"\n",
    "    cursor.execute(create_table_query)\n",
    "    db_connection.commit()"
   ]
  },
  {
   "cell_type": "code",
   "execution_count": 34,
   "id": "9db9b8d7",
   "metadata": {},
   "outputs": [],
   "source": [
    "create_table_GPSData('GPSData', cur, conn)"
   ]
  },
  {
   "cell_type": "code",
   "execution_count": 35,
   "id": "d17f9517",
   "metadata": {},
   "outputs": [],
   "source": [
    "def create_table_StrengthTestRetroCommercial(tbl_name, cursor, db_connection):\n",
    "    create_table_query = f\"CREATE TABLE `{tbl_name}` (\\\n",
    "        `strengthTestID` INT(11) NOT NULL AUTO_INCREMENT,\\\n",
    "        `TrialID` INT(11) NOT NULL,\\\n",
    "        `Age(days)` FLOAT NULL DEFAULT NULL,\\\n",
    "        `LocationVertical` VARCHAR(50) NOT NULL COLLATE 'utf8mb4_unicode_ci',\\\n",
    "        `LocationHorizontal` VARCHAR(50) NOT NULL COLLATE 'utf8mb4_unicode_ci',\\\n",
    "        `LocationDepth` VARCHAR(50) NOT NULL COLLATE 'utf8mb4_unicode_ci',\\\n",
    "        `LocationChamber` VARCHAR(50) NOT NULL COLLATE 'utf8mb4_unicode_ci',\\\n",
    "        `Placeholder` VARCHAR(50) NOT NULL COLLATE 'utf8mb4_unicode_ci',\\\n",
    "        `PSI` FLOAT NULL DEFAULT NULL,\\\n",
    "        `BlockWeight` FLOAT NULL DEFAULT NULL,\\\n",
    "        `TestType` VARCHAR(50) NOT NULL COLLATE 'utf8mb4_unicode_ci',\\\n",
    "        `LOCforStrengthTest` VARCHAR(50) NOT NULL COLLATE 'utf8mb4_unicode_ci',\\\n",
    "        `Description` VARCHAR(50) NOT NULL COLLATE 'utf8mb4_unicode_ci',\\\n",
    "         FOREIGN KEY (`TrialID`) REFERENCES `Trail` (`TrialID`) ON DELETE CASCADE, \\\n",
    "         PRIMARY KEY (`strengthTestID`) USING BTREE\\\n",
    "        )\\\n",
    "        COLLATE='utf8mb4_unicode_ci'\\\n",
    "        ENGINE=InnoDB\\\n",
    "        ;\"\n",
    "    cursor.execute(create_table_query)\n",
    "    db_connection.commit()"
   ]
  },
  {
   "cell_type": "code",
   "execution_count": 36,
   "id": "a3fb2105",
   "metadata": {},
   "outputs": [],
   "source": [
    "create_table_StrengthTestRetroCommercial('StrengthTestRetroCommercial',cur, conn)"
   ]
  },
  {
   "cell_type": "code",
   "execution_count": 37,
   "id": "f59aae08",
   "metadata": {},
   "outputs": [],
   "source": [
    "def create_table_MaterialEconomics(tbl_name, cursor, db_connection):\n",
    "    create_table_query = f\"CREATE TABLE `{tbl_name}` (\\\n",
    "        `MatEconId` INT(11) NOT NULL AUTO_INCREMENT,\\\n",
    "        `rawMatID` INT(11) NOT NULL,\\\n",
    "        `bPlantID` INT(11) NOT NULL,\\\n",
    "        `Distance` FLOAT NULL DEFAULT NULL,\\\n",
    "        `ModeofTransport` VARCHAR(50) NOT NULL COLLATE 'utf8mb4_unicode_ci',\\\n",
    "        `LandedCost` FLOAT NULL DEFAULT NULL,\\\n",
    "         FOREIGN KEY (`rawMatID`) REFERENCES `RawMaterial` (`rawMatID`) ON DELETE CASCADE, \\\n",
    "         FOREIGN KEY (`bPlantID`) REFERENCES `BlockPlant` (`bPlantID`) ON DELETE CASCADE, \\\n",
    "         PRIMARY KEY (`MatEconId`) USING BTREE\\\n",
    "        )\\\n",
    "        COLLATE='utf8mb4_unicode_ci'\\\n",
    "        ENGINE=InnoDB\\\n",
    "        ;\"\n",
    "    cursor.execute(create_table_query)\n",
    "    db_connection.commit()"
   ]
  },
  {
   "cell_type": "code",
   "execution_count": 38,
   "id": "750f99c4",
   "metadata": {},
   "outputs": [],
   "source": [
    "create_table_MaterialEconomics('MaterialEconomics',cur, conn)"
   ]
  },
  {
   "cell_type": "code",
   "execution_count": null,
   "id": "07387a20",
   "metadata": {},
   "outputs": [],
   "source": []
  }
 ],
 "metadata": {
  "kernelspec": {
   "display_name": "Python 3 (ipykernel)",
   "language": "python",
   "name": "python3"
  },
  "language_info": {
   "codemirror_mode": {
    "name": "ipython",
    "version": 3
   },
   "file_extension": ".py",
   "mimetype": "text/x-python",
   "name": "python",
   "nbconvert_exporter": "python",
   "pygments_lexer": "ipython3",
   "version": "3.7.13"
  }
 },
 "nbformat": 4,
 "nbformat_minor": 5
}
